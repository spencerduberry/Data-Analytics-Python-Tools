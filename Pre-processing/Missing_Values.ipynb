{
  "cells": [
    {
      "cell_type": "markdown",
      "metadata": {
        "colab_type": "text",
        "id": "view-in-github"
      },
      "source": [
        "<a href=\"https://colab.research.google.com/github/spencerduberry/Python_csv/blob/main/Missing_Values.ipynb\" target=\"_parent\"><img src=\"https://colab.research.google.com/assets/colab-badge.svg\" alt=\"Open In Colab\"/></a>"
      ]
    },
    {
      "cell_type": "code",
      "execution_count": 1,
      "metadata": {
        "colab": {
          "base_uri": "https://localhost:8080/"
        },
        "id": "FupF3txo4HFn",
        "outputId": "ee182e25-6b6a-44f8-b539-178bfd485a13"
      },
      "outputs": [
        {
          "name": "stdout",
          "output_type": "stream",
          "text": [
            "ID                 0\n",
            "Exited             0\n",
            "gender             0\n",
            "age                0\n",
            "term_deposit       0\n",
            "Car                0\n",
            "Property           0\n",
            "Geography          0\n",
            "cr_score           0\n",
            "tenure             0\n",
            "balance            0\n",
            "Unemployed         0\n",
            "Kids               0\n",
            "Acc_length         0\n",
            "Total_income       0\n",
            "credit_card        0\n",
            "Years_employed     0\n",
            "Income_type        0\n",
            "Education_type     0\n",
            "Family_status      0\n",
            "Housing_type       0\n",
            "Occupation_type    0\n",
            "Target             0\n",
            "dtype: int64\n"
          ]
        }
      ],
      "source": [
        "import pandas as pd #import library for analysing data\n",
        "df = pd.read_csv('Summative Data.csv') #loads csv file into Pandas DataFrame\n",
        "missing_values = df.isnull().sum() #uses pre-built methods to check for/add up missing values\n",
        "print(missing_values)\n"
      ]
    }
  ],
  "metadata": {
    "colab": {
      "authorship_tag": "ABX9TyN4+kt9AjiD+PcqWLpCcltY",
      "include_colab_link": true,
      "provenance": []
    },
    "kernelspec": {
      "display_name": "Python 3",
      "name": "python3"
    },
    "language_info": {
      "codemirror_mode": {
        "name": "ipython",
        "version": 3
      },
      "file_extension": ".py",
      "mimetype": "text/x-python",
      "name": "python",
      "nbconvert_exporter": "python",
      "pygments_lexer": "ipython3",
      "version": "3.11.9"
    }
  },
  "nbformat": 4,
  "nbformat_minor": 0
}
