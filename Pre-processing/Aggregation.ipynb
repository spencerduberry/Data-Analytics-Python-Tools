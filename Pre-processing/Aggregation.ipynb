{
  "nbformat": 4,
  "nbformat_minor": 0,
  "metadata": {
    "colab": {
      "provenance": [],
      "authorship_tag": "ABX9TyM1FpLVd5pT/tVN8vsP3Jtr",
      "include_colab_link": true
    },
    "kernelspec": {
      "name": "python3",
      "display_name": "Python 3"
    },
    "language_info": {
      "name": "python"
    }
  },
  "cells": [
    {
      "cell_type": "markdown",
      "metadata": {
        "id": "view-in-github",
        "colab_type": "text"
      },
      "source": [
        "<a href=\"https://colab.research.google.com/github/spencerduberry/Python_csv/blob/main/Aggregation.ipynb\" target=\"_parent\"><img src=\"https://colab.research.google.com/assets/colab-badge.svg\" alt=\"Open In Colab\"/></a>"
      ]
    },
    {
      "cell_type": "code",
      "execution_count": 6,
      "metadata": {
        "colab": {
          "base_uri": "https://localhost:8080/"
        },
        "id": "-2mih3k89XFP",
        "outputId": "3c16279b-d7d6-46eb-e4ec-c730f8288def"
      },
      "outputs": [
        {
          "output_type": "stream",
          "name": "stdout",
          "text": [
            "      CustomerID  TotalAmountSpent\n",
            "0        12346.0              0.00\n",
            "1        12347.0           4310.00\n",
            "2        12348.0           1797.24\n",
            "3        12349.0           1757.55\n",
            "4        12350.0            334.40\n",
            "...          ...               ...\n",
            "4367     18280.0            180.60\n",
            "4368     18281.0             80.82\n",
            "4369     18282.0            176.60\n",
            "4370     18283.0           2094.88\n",
            "4371     18287.0           1837.28\n",
            "\n",
            "[4372 rows x 2 columns]\n"
          ]
        }
      ],
      "source": [
        "import pandas as pd\n",
        "\n",
        "file_path = '/content/Online Retail.csv'\n",
        "df = pd.read_csv(file_path)\n",
        "\n",
        "df['TotalAmount'] = df['UnitPrice'] * df['Quantity'] #creating a TotalAmount variable\n",
        "\n",
        "result = df.groupby('CustomerID')['TotalAmount'].sum().reset_index() #group by CustomerID, sum the total amounts for each customer, reset_index converts CustomerID from an index to a regular column\n",
        "\n",
        "result.columns = ['CustomerID', 'TotalAmountSpent']\n",
        "\n",
        "print(result)\n"
      ]
    }
  ]
}