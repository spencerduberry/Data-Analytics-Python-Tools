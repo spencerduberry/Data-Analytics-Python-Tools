{
 "cells": [
  {
   "cell_type": "code",
   "execution_count": 1,
   "metadata": {},
   "outputs": [
    {
     "name": "stderr",
     "output_type": "stream",
     "text": [
      "C:\\Users\\spenc\\AppData\\Local\\Packages\\PythonSoftwareFoundation.Python.3.11_qbz5n2kfra8p0\\LocalCache\\local-packages\\Python311\\site-packages\\tqdm\\auto.py:21: TqdmWarning: IProgress not found. Please update jupyter and ipywidgets. See https://ipywidgets.readthedocs.io/en/stable/user_install.html\n",
      "  from .autonotebook import tqdm as notebook_tqdm\n",
      "Summarize dataset: 100%|██████████| 113/113 [00:42<00:00,  2.66it/s, Completed]                             \n",
      "Generate report structure: 100%|██████████| 1/1 [00:18<00:00, 18.21s/it]\n",
      "Render HTML: 100%|██████████| 1/1 [00:06<00:00,  6.68s/it]\n",
      "Export report to file: 100%|██████████| 1/1 [00:00<00:00, 15.33it/s]\n"
     ]
    }
   ],
   "source": [
    "import pandas as pd\n",
    "import ydata_profiling\n",
    "\n",
    "# Load your CSV file into a pandas DataFrame\n",
    "df = pd.read_csv(\"Summative Data.csv\")\n",
    "\n",
    "# Create a profile report for the DataFrame\n",
    "profile = ydata_profiling.ProfileReport(df)\n",
    "\n",
    "# Save the profile report as an HTML file\n",
    "profile.to_file(\"profile.html\")\n"
   ]
  }
 ],
 "metadata": {
  "kernelspec": {
   "display_name": "Python 3",
   "language": "python",
   "name": "python3"
  },
  "language_info": {
   "codemirror_mode": {
    "name": "ipython",
    "version": 3
   },
   "file_extension": ".py",
   "mimetype": "text/x-python",
   "name": "python",
   "nbconvert_exporter": "python",
   "pygments_lexer": "ipython3",
   "version": "3.11.9"
  }
 },
 "nbformat": 4,
 "nbformat_minor": 2
}
