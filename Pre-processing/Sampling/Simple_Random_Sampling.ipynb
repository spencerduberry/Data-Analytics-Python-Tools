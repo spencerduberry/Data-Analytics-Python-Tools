{
 "cells": [
  {
   "cell_type": "markdown",
   "metadata": {
    "colab_type": "text",
    "id": "view-in-github"
   },
   "source": [
    "<a href=\"https://colab.research.google.com/github/spencerduberry/Python_csv/blob/main/Simple_Random_Sampling.ipynb\" target=\"_parent\"><img src=\"https://colab.research.google.com/assets/colab-badge.svg\" alt=\"Open In Colab\"/></a>"
   ]
  },
  {
   "cell_type": "code",
   "execution_count": 2,
   "metadata": {
    "colab": {
     "base_uri": "https://localhost:8080/"
    },
    "id": "9KSVbElGE4xy",
    "outputId": "5ce2de1c-a927-4bbd-df11-3078d48f4030"
   },
   "outputs": [
    {
     "name": "stdout",
     "output_type": "stream",
     "text": [
      "       InvoiceNo StockCode                        Description  Quantity  \\\n",
      "167247    550986     23204        CHARLOTTE BAG APPLES DESIGN         1   \n",
      "55008     540977     21518      BANK ACCOUNT  GREETING  CARD          3   \n",
      "437769    574298     84946       ANTIQUE SILVER T-LIGHT GLASS         2   \n",
      "351270    567665     22139   RETROSPOT TEA SET CERAMIC 11 PC          3   \n",
      "430513    573585     22079         RIBBON REEL HEARTS DESIGN          1   \n",
      "319676    564857     21218             RED SPOTTY BISCUIT TIN         4   \n",
      "466412    576329     23377      PACK OF 12 DOLLY GIRL TISSUES         4   \n",
      "486303    577723     21212    PACK OF 72 RETROSPOT CAKE CASES         2   \n",
      "16374     537653     20966               SANDWICH BATH SPONGE         3   \n",
      "22167     538153     82551             LAUNDRY 15C METAL SIGN         1   \n",
      "69995     541995     20676                 RED RETROSPOT BOWL         8   \n",
      "170106    551277     21212    PACK OF 72 RETROSPOT CAKE CASES         2   \n",
      "109078    545582     21873    IF YOU CAN'T STAND THE HEAT MUG        72   \n",
      "365455    568709     22508           DOORSTOP RETROSPOT HEART         1   \n",
      "48344     540468    85180B           PINK HEARTS LIGHT CHAIN          5   \n",
      "400912    571408     23282    FOLDING BUTTERFLY MIRROR IVORY          1   \n",
      "536980    581233     23455        SMALL PARLOUR PICTURE FRAME         6   \n",
      "249454    558904     22946       WOODEN ADVENT CALENDAR CREAM         1   \n",
      "87014     543629     82599        FANNY'S REST STOPMETAL SIGN         1   \n",
      "517238    580048     22327  ROUND SNACK BOXES SET OF 4 SKULLS         1   \n",
      "\n",
      "             InvoiceDate  UnitPrice  CustomerID         Country  \n",
      "167247  21/04/2011 18:06       1.63         NaN  United Kingdom  \n",
      "55008   12/01/2011 15:01       0.43         NaN  United Kingdom  \n",
      "437769  03/11/2011 15:56       2.46         NaN  United Kingdom  \n",
      "351270  21/09/2011 15:22      10.79         NaN  United Kingdom  \n",
      "430513  31/10/2011 14:41       3.29         NaN  United Kingdom  \n",
      "319676  31/08/2011 09:23       8.29         NaN  United Kingdom  \n",
      "466412  14/11/2011 15:22       0.83         NaN  United Kingdom  \n",
      "486303  21/11/2011 12:36       0.55     16713.0  United Kingdom  \n",
      "16374   07/12/2010 15:54       1.25     17897.0  United Kingdom  \n",
      "22167   09/12/2010 16:31       2.51         NaN  United Kingdom  \n",
      "69995   25/01/2011 09:58       1.25     13158.0  United Kingdom  \n",
      "170106  27/04/2011 13:06       0.55     13637.0  United Kingdom  \n",
      "109078  04/03/2011 09:05       1.06     13694.0  United Kingdom  \n",
      "365455  28/09/2011 15:42       3.75     15036.0  United Kingdom  \n",
      "48344   07/01/2011 13:55       2.51         NaN  United Kingdom  \n",
      "400912  17/10/2011 12:22       0.83     15012.0  United Kingdom  \n",
      "536980  08/12/2011 10:33       2.89     13436.0  United Kingdom  \n",
      "249454  04/07/2011 16:18      16.63         NaN  United Kingdom  \n",
      "87014   10/02/2011 15:55       4.13         NaN  United Kingdom  \n",
      "517238  01/12/2011 12:53       2.95     12748.0  United Kingdom  \n"
     ]
    }
   ],
   "source": [
    "import pandas as pd\n",
    "\n",
    "file_path = \"/content/Online Retail.csv\"\n",
    "df = pd.read_csv(file_path)\n",
    "\n",
    "uk_sales_df = df[\n",
    "    df[\"Country\"] == \"United Kingdom\"\n",
    "]  # filters the file to include only UK sales\n",
    "\n",
    "if len(uk_sales_df) >= 20:  # checks there are enough objects\n",
    "    sample_df = uk_sales_df.sample(\n",
    "        n=20, replace=False, random_state=1\n",
    "    )  # randomly samples 20 rows\n",
    "\n",
    "    print(sample_df)\n",
    "\n",
    "else:\n",
    "    print(\"Not enough UK sales to sample from.\")"
   ]
  }
 ],
 "metadata": {
  "colab": {
   "authorship_tag": "ABX9TyPYpG6idwFNb+Grc+NKEphX",
   "include_colab_link": true,
   "provenance": []
  },
  "kernelspec": {
   "display_name": "Python 3",
   "name": "python3"
  },
  "language_info": {
   "name": "python"
  }
 },
 "nbformat": 4,
 "nbformat_minor": 0
}