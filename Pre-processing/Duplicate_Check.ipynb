{
  "nbformat": 4,
  "nbformat_minor": 0,
  "metadata": {
    "colab": {
      "provenance": [],
      "authorship_tag": "ABX9TyN2KYneOo6OQXxZsdy61g1h",
      "include_colab_link": true
    },
    "kernelspec": {
      "name": "python3",
      "display_name": "Python 3"
    },
    "language_info": {
      "name": "python"
    }
  },
  "cells": [
    {
      "cell_type": "markdown",
      "metadata": {
        "id": "view-in-github",
        "colab_type": "text"
      },
      "source": [
        "<a href=\"https://colab.research.google.com/github/spencerduberry/Python_csv/blob/main/Duplicate_check.ipynb\" target=\"_parent\"><img src=\"https://colab.research.google.com/assets/colab-badge.svg\" alt=\"Open In Colab\"/></a>"
      ]
    },
    {
      "cell_type": "code",
      "execution_count": 2,
      "metadata": {
        "colab": {
          "base_uri": "https://localhost:8080/"
        },
        "id": "vn2LQ4ab47PK",
        "outputId": "e21a3eb4-48fa-43f5-e3e4-38ced0b98247"
      },
      "outputs": [
        {
          "output_type": "stream",
          "name": "stdout",
          "text": [
            "        v1                                                 v2 Unnamed: 2  \\\n",
            "102    ham  As per your request 'Melle Melle (Oru Minnamin...        NaN   \n",
            "153    ham  As per your request 'Melle Melle (Oru Minnamin...        NaN   \n",
            "206    ham  As I entered my cabin my PA said, '' Happy B'd...        NaN   \n",
            "222    ham                             Sorry, I'll call later        NaN   \n",
            "325    ham                   No calls..messages..missed calls        NaN   \n",
            "...    ...                                                ...        ...   \n",
            "5524  spam  You are awarded a SiPix Digital Camera! call 0...        NaN   \n",
            "5535   ham  I know you are thinkin malaria. But relax, chi...        NaN   \n",
            "5539   ham                         Just sleeping..and surfing        NaN   \n",
            "5553   ham                        Hahaha..use your brain dear        NaN   \n",
            "5558   ham                             Sorry, I'll call later        NaN   \n",
            "\n",
            "     Unnamed: 3 Unnamed: 4  \n",
            "102         NaN        NaN  \n",
            "153         NaN        NaN  \n",
            "206         NaN        NaN  \n",
            "222         NaN        NaN  \n",
            "325         NaN        NaN  \n",
            "...         ...        ...  \n",
            "5524        NaN        NaN  \n",
            "5535        NaN        NaN  \n",
            "5539        NaN        NaN  \n",
            "5553        NaN        NaN  \n",
            "5558        NaN        NaN  \n",
            "\n",
            "[403 rows x 5 columns]\n"
          ]
        }
      ],
      "source": [
        "import pandas as pd\n",
        "\n",
        "df = pd.read_csv('spam.csv', encoding='latin-1')\n",
        "duplicates = df['v2'].duplicated() #checks the column, returns a Boolean series, with ‘true’ for rows where a value has appeared before\n",
        "print(df[duplicates]) #displays only the duplicate rows\n"
      ]
    }
  ]
}