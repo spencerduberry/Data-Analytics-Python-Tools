{
  "nbformat": 4,
  "nbformat_minor": 0,
  "metadata": {
    "colab": {
      "provenance": [],
      "authorship_tag": "ABX9TyPBcbi5EDlCcdBCey2ELBIK",
      "include_colab_link": true
    },
    "kernelspec": {
      "name": "python3",
      "display_name": "Python 3"
    },
    "language_info": {
      "name": "python"
    }
  },
  "cells": [
    {
      "cell_type": "markdown",
      "metadata": {
        "id": "view-in-github",
        "colab_type": "text"
      },
      "source": [
        "<a href=\"https://colab.research.google.com/github/spencerduberry/Python_csv/blob/main/Aggregation.ipynb\" target=\"_parent\"><img src=\"https://colab.research.google.com/assets/colab-badge.svg\" alt=\"Open In Colab\"/></a>"
      ]
    },
    {
      "cell_type": "code",
      "execution_count": 5,
      "metadata": {
        "colab": {
          "base_uri": "https://localhost:8080/"
        },
        "id": "-2mih3k89XFP",
        "outputId": "649b1156-61cb-4606-83a6-62a95e7853ff"
      },
      "outputs": [
        {
          "output_type": "stream",
          "name": "stdout",
          "text": [
            "  InvoiceNo StockCode                          Description  Quantity  \\\n",
            "0    536365    85123A   WHITE HANGING HEART T-LIGHT HOLDER         6   \n",
            "1    536365     71053                  WHITE METAL LANTERN         6   \n",
            "2    536365    84406B       CREAM CUPID HEARTS COAT HANGER         8   \n",
            "3    536365    84029G  KNITTED UNION FLAG HOT WATER BOTTLE         6   \n",
            "4    536365    84029E       RED WOOLLY HOTTIE WHITE HEART.         6   \n",
            "\n",
            "        InvoiceDate  UnitPrice  CustomerID         Country  \n",
            "0  01/12/2010 08:26       2.55     17850.0  United Kingdom  \n",
            "1  01/12/2010 08:26       3.39     17850.0  United Kingdom  \n",
            "2  01/12/2010 08:26       2.75     17850.0  United Kingdom  \n",
            "3  01/12/2010 08:26       3.39     17850.0  United Kingdom  \n",
            "4  01/12/2010 08:26       3.39     17850.0  United Kingdom  \n",
            "      CustomerID  TotalAmountSpent\n",
            "0        12346.0              0.00\n",
            "1        12347.0           4310.00\n",
            "2        12348.0           1797.24\n",
            "3        12349.0           1757.55\n",
            "4        12350.0            334.40\n",
            "...          ...               ...\n",
            "4367     18280.0            180.60\n",
            "4368     18281.0             80.82\n",
            "4369     18282.0            176.60\n",
            "4370     18283.0           2094.88\n",
            "4371     18287.0           1837.28\n",
            "\n",
            "[4372 rows x 2 columns]\n"
          ]
        }
      ],
      "source": [
        "import pandas as pd\n",
        "\n",
        "file_path = '/content/Online Retail.csv'\n",
        "df = pd.read_csv(file_path)\n",
        "\n",
        "print(df.head())\n",
        "\n",
        "df['TotalAmount'] = df['UnitPrice'] * df['Quantity']\n",
        "\n",
        "result = df.groupby('CustomerID')['TotalAmount'].sum().reset_index()\n",
        "\n",
        "result.columns = ['CustomerID', 'TotalAmountSpent']\n",
        "\n",
        "print(result)\n"
      ]
    }
  ]
}