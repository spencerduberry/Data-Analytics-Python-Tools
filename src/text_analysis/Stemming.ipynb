{
 "cells": [
  {
   "cell_type": "markdown",
   "metadata": {
    "colab_type": "text",
    "id": "view-in-github"
   },
   "source": [
    "<a href=\"https://colab.research.google.com/github/spencerduberry/Python_csv/blob/main/Stemming.ipynb\" target=\"_parent\"><img src=\"https://colab.research.google.com/assets/colab-badge.svg\" alt=\"Open In Colab\"/></a>"
   ]
  },
  {
   "cell_type": "code",
   "execution_count": 20,
   "metadata": {
    "colab": {
     "base_uri": "https://localhost:8080/"
    },
    "id": "MWfDkLiKnK4_",
    "outputId": "d1baf0df-1433-419a-9454-ba982e673097"
   },
   "outputs": [
    {
     "name": "stderr",
     "output_type": "stream",
     "text": [
      "[nltk_data] Downloading package stopwords to /root/nltk_data...\n",
      "[nltk_data]   Package stopwords is already up-to-date!\n",
      "[nltk_data] Downloading package punkt to /root/nltk_data...\n",
      "[nltk_data]   Package punkt is already up-to-date!\n"
     ]
    },
    {
     "name": "stdout",
     "output_type": "stream",
     "text": [
      "   v1                                                 v2  \\\n",
      "0   0  Go until jurong point, crazy.. Available only ...   \n",
      "1   0                      Ok lar... Joking wif u oni...   \n",
      "2   1  Free entry in 2 a wkly comp to win FA Cup fina...   \n",
      "3   0  U dun say so early hor... U c already then say...   \n",
      "4   0  Nah I don't think he goes to usf, he lives aro...   \n",
      "\n",
      "                                        cleaned_text  \n",
      "0  go jurong point , crazi .. avail bugi n great ...  \n",
      "1                      ok lar ... joke wif u oni ...  \n",
      "2  free entri 2 wkli comp win fa cup final tkt 21...  \n",
      "3        u dun say earli hor ... u c alreadi say ...  \n",
      "4         nah n't think goe usf , live around though  \n",
      "Most common terms in spam messages:\n",
      "[('call', 369), ('free', 221), ('txt', 170), ('u', 167), ('ur', 144), ('text', 140), ('mobil', 136), ('stop', 119), ('claim', 115), ('repli', 112), ('prize', 94), ('get', 88), ('s', 82), ('p', 79), ('tone', 74), ('nokia', 72), ('new', 72), ('servic', 72), ('send', 70), ('award', 67)]\n",
      "\n",
      "Most common terms in ham messages:\n",
      "[('u', 1020), ('s', 425), ('go', 419), ('m', 388), ('get', 364), ('nt', 360), ('gt', 318), ('lt', 316), ('come', 295), ('call', 292), ('ok', 279), ('know', 248), ('got', 245), ('like', 244), ('ur', 241), ('love', 241), ('good', 230), ('time', 229), ('ll', 228), ('day', 224)]\n"
     ]
    }
   ],
   "source": [
    "# prompt: import pandas as pd\n",
    "\n",
    "import pandas as pd\n",
    "from collections import (\n",
    "    Counter,\n",
    ")  # collections provides specialised data structures; counter tracks how mamny times items appear in a sequence\n",
    "import re  # allows handling of text data based on patterns rather than exact characters\n",
    "import nltk  # natural language toolkit\n",
    "from nltk.corpus import stopwords\n",
    "from nltk.stem import PorterStemmer  # stemming library\n",
    "from nltk.tokenize import word_tokenize\n",
    "\n",
    "nltk.download(\"stopwords\")\n",
    "nltk.download(\n",
    "    \"punkt\"\n",
    ")  # punkt is a model for sentence tokenisation and is good at identifying sentence boundaries\n",
    "stop_words = set(stopwords.words(\"english\"))  # set of stopwords is created\n",
    "stemmer = PorterStemmer()  # initialise stemmer\n",
    "\n",
    "df = pd.read_csv(\"spam.csv\", encoding=\"latin-1\")\n",
    "\n",
    "df[\"v1\"] = df[\"v1\"].apply(lambda x: 1 if x == \"spam\" else 0)  # binarising ham and spam\n",
    "\n",
    "\n",
    "def tokenize(text):  # def is a function, which is like a method, but classless\n",
    "    text = text.lower()  # conversion to lower class so that upper and lower class versions of the same word are not counted separately\n",
    "    text = re.sub(r\"[^a-z\\s]\", \"\", text)  # removes non-alphabetical characters\n",
    "    return text.split()  # splits text into words\n",
    "\n",
    "\n",
    "def remove_stopwords(text):\n",
    "    words = word_tokenize(text)  # the complete set of words\n",
    "    filtered_words = [\n",
    "        word for word in words if word.lower() not in stop_words\n",
    "    ]  # the filtered set of words: in the new list, include words from the words set as long as they are not in the stop_words set\n",
    "    return \" \".join(\n",
    "        filtered_words\n",
    "    )  # puts the words back together into a string. The ' ' is just the delimiter\n",
    "\n",
    "\n",
    "def stem_words(text):\n",
    "    words = word_tokenize(text)\n",
    "    stemmed_words = [\n",
    "        stemmer.stem(word) for word in words\n",
    "    ]  # analagous to the above function\n",
    "    return \" \".join(stemmed_words)\n",
    "\n",
    "\n",
    "df[\"cleaned_text\"] = (\n",
    "    df[\"v2\"].apply(remove_stopwords).apply(stem_words)\n",
    ")  # creates a new cleaned_text attribute, removing stopwords\n",
    "\n",
    "print(df[[\"v1\", \"v2\", \"cleaned_text\"]].head())\n",
    "\n",
    "spam_docs = df[df[\"v1\"] == 1][\n",
    "    \"cleaned_text\"\n",
    "]  # creates a new document of only spam, via filtering\n",
    "ham_docs = df[df[\"v1\"] == 0][\n",
    "    \"cleaned_text\"\n",
    "]  # creates a new document of only ham, via filtering\n",
    "\n",
    "spam_text = \" \".join(\n",
    "    spam_docs\n",
    ")  # combines all spam and ham messages into individual documents\n",
    "spam_tokens = tokenize(spam_text)  # and tokenises them\n",
    "ham_text = \" \".join(ham_docs)\n",
    "ham_tokens = tokenize(ham_text)\n",
    "\n",
    "spam_term_index = Counter(spam_tokens)  # create an index of terms\n",
    "ham_term_index = Counter(ham_tokens)\n",
    "\n",
    "print(\"Most common terms in spam messages:\")\n",
    "print(spam_term_index.most_common(20))\n",
    "\n",
    "print(\"\\nMost common terms in ham messages:\")\n",
    "print(ham_term_index.most_common(20))"
   ]
  }
 ],
 "metadata": {
  "colab": {
   "authorship_tag": "ABX9TyP/GdJcApY6Vv+0H4EzXmcw",
   "include_colab_link": true,
   "provenance": []
  },
  "kernelspec": {
   "display_name": "Python 3",
   "name": "python3"
  },
  "language_info": {
   "name": "python"
  }
 },
 "nbformat": 4,
 "nbformat_minor": 0
}