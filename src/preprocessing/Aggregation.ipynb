{
 "cells": [
  {
   "cell_type": "markdown",
   "metadata": {
    "colab_type": "text",
    "id": "view-in-github"
   },
   "source": [
    "<a href=\"https://colab.research.google.com/github/spencerduberry/Python_csv/blob/main/Aggregation.ipynb\" target=\"_parent\"><img src=\"https://colab.research.google.com/assets/colab-badge.svg\" alt=\"Open In Colab\"/></a>"
   ]
  },
  {
   "cell_type": "code",
   "execution_count": null,
   "metadata": {
    "colab": {
     "base_uri": "https://localhost:8080/"
    },
    "id": "-2mih3k89XFP",
    "outputId": "3c16279b-d7d6-46eb-e4ec-c730f8288def"
   },
   "outputs": [],
   "source": [
    "import pandas as pd\n",
    "\n",
    "\n",
    "def aggregate(df: pd.DataFrame, col_1: str, col_2: str, agg_func):\n",
    "    \"\"\"\n",
    "    Args:\n",
    "        df (pd.DataFrame): a DataFrame containing two columns to be aggregated\n",
    "        col_1 (str): a column to be used as input in an aggreagation function\n",
    "        col_2 (str): a column to be used as input in an aggreagation function\n",
    "        agg_func (_type_): an aggregation function\n",
    "\n",
    "    Returns:\n",
    "        tarnsofrmed (aggregated) data\n",
    "    \"\"\"\n",
    "    df[\"new_data\"] = agg_func(df[col_1], df[col_2])\n",
    "    return df[\"new_data\"]"
   ]
  }
 ],
 "metadata": {
  "colab": {
   "authorship_tag": "ABX9TyM1FpLVd5pT/tVN8vsP3Jtr",
   "include_colab_link": true,
   "provenance": []
  },
  "kernelspec": {
   "display_name": "Python 3",
   "name": "python3"
  },
  "language_info": {
   "name": "python"
  }
 },
 "nbformat": 4,
 "nbformat_minor": 0
}
