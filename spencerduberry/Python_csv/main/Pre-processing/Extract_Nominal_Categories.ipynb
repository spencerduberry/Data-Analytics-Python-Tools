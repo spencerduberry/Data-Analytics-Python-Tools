{
  "nbformat": 4,
  "nbformat_minor": 0,
  "metadata": {
    "colab": {
      "provenance": [],
      "authorship_tag": "ABX9TyPQo5IuC676VtHCFYGDIvsx",
      "include_colab_link": true
    },
    "kernelspec": {
      "name": "python3",
      "display_name": "Python 3"
    },
    "language_info": {
      "name": "python"
    }
  },
  "cells": [
    {
      "cell_type": "markdown",
      "metadata": {
        "id": "view-in-github",
        "colab_type": "text"
      },
      "source": [
        "<a href=\"https://colab.research.google.com/github/spencerduberry/Python_csv/blob/main/spencerduberry/Python_csv/main/Pre-processing/Extract_Nominal_Categories.ipynb\" target=\"_parent\"><img src=\"https://colab.research.google.com/assets/colab-badge.svg\" alt=\"Open In Colab\"/></a>"
      ]
    },
    {
      "cell_type": "code",
      "execution_count": 1,
      "metadata": {
        "colab": {
          "base_uri": "https://localhost:8080/"
        },
        "id": "SYoQpAv7cxNQ",
        "outputId": "b41012b1-08c4-4cbd-8688-f5476480a88b"
      },
      "outputs": [
        {
          "output_type": "stream",
          "name": "stdout",
          "text": [
            "        ID  Exited  gender  age  term_deposit  Car  Property Geography  \\\n",
            "0  5008804       1  Female   42             0    1         1    Greece   \n",
            "1  5008806       0  Female   41             0    1         1     Spain   \n",
            "2  5008808       1  Female   42             0    0         1    Greece   \n",
            "3  5008812       0  Female   39             0    0         1    Greece   \n",
            "4  5008815       0  Female   43             0    1         1     Spain   \n",
            "\n",
            "   cr_score  tenure  ...  Acc_length  Total_income  credit_card  \\\n",
            "0       619       2  ...          15      427500.0            1   \n",
            "1       608       1  ...          29      112500.0            0   \n",
            "2       502       8  ...           4      270000.0            1   \n",
            "3       699       1  ...          20      283500.0            0   \n",
            "4       850       2  ...           5      270000.0            1   \n",
            "\n",
            "   Years_employed           Income_type                 Education_type  \\\n",
            "0       12.435574               Working               Higher education   \n",
            "1        3.104787               Working  Secondary / secondary special   \n",
            "2        8.353354  Commercial associate  Secondary / secondary special   \n",
            "3        0.000000             Pensioner               Higher education   \n",
            "4        2.105450               Working               Higher education   \n",
            "\n",
            "          Family_status       Housing_type Occupation_type Target  \n",
            "0        Civil marriage   Rented apartment           Other      1  \n",
            "1               Married  House / apartment  Security staff      0  \n",
            "2  Single / not married  House / apartment     Sales staff      0  \n",
            "3             Separated  House / apartment           Other      0  \n",
            "4               Married  House / apartment     Accountants      0  \n",
            "\n",
            "[5 rows x 23 columns]\n",
            "Unique categories in 'Geography': ['Greece' 'Spain' 'Netherlands']\n"
          ]
        }
      ],
      "source": [
        "import pandas as pd\n",
        "\n",
        "df = pd.read_csv('Summative Data.csv')\n",
        "\n",
        "print(df.head()) # prints first few to confirm file is correct\n",
        "\n",
        "unique_categories = df['Geography'].unique() # creates variable to hold unique categories, using .unique function\n",
        "\n",
        "print(\"Unique categories in 'Geography':\", unique_categories)\n"
      ]
    }
  ]
}