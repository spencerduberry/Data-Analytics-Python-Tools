{
 "cells": [
  {
   "cell_type": "code",
   "execution_count": 3,
   "metadata": {},
   "outputs": [
    {
     "name": "stdout",
     "output_type": "stream",
     "text": [
      "        ID  Exited  gender  age  term_deposit  Car  Property Geography  \\\n",
      "0  5008804       1  Female   42             0    1         1    Greece   \n",
      "1  5008806       0  Female   41             0    1         1     Spain   \n",
      "2  5008808       1  Female   42             0    0         1    Greece   \n",
      "3  5008812       0  Female   39             0    0         1    Greece   \n",
      "4  5008815       0  Female   43             0    1         1     Spain   \n",
      "\n",
      "   cr_score  tenure  ...  Acc_length  Total_income  credit_card  \\\n",
      "0       619       2  ...          15      427500.0            1   \n",
      "1       608       1  ...          29      112500.0            0   \n",
      "2       502       8  ...           4      270000.0            1   \n",
      "3       699       1  ...          20      283500.0            0   \n",
      "4       850       2  ...           5      270000.0            1   \n",
      "\n",
      "   Years_employed           Income_type                 Education_type  \\\n",
      "0       12.435574               Working               Higher education   \n",
      "1        3.104787               Working  Secondary / secondary special   \n",
      "2        8.353354  Commercial associate  Secondary / secondary special   \n",
      "3        0.000000             Pensioner               Higher education   \n",
      "4        2.105450               Working               Higher education   \n",
      "\n",
      "          Family_status       Housing_type Occupation_type Target  \n",
      "0        Civil marriage   Rented apartment           Other      1  \n",
      "1               Married  House / apartment  Security staff      0  \n",
      "2  Single / not married  House / apartment     Sales staff      0  \n",
      "3             Separated  House / apartment           Other      0  \n",
      "4               Married  House / apartment     Accountants      0  \n",
      "\n",
      "[5 rows x 23 columns]\n",
      "[[ 1. -1. -1. ...  1. -1. -1.]\n",
      " [-1.  1.  1. ... -1.  1.  1.]\n",
      " [-1.  1.  1. ... -1.  1.  1.]\n",
      " ...\n",
      " [ 1. -1. -1. ...  1. -1. -1.]\n",
      " [-1.  1.  1. ... -1.  1.  1.]\n",
      " [-1.  1.  1. ... -1.  1.  1.]]\n"
     ]
    }
   ],
   "source": [
    "import pandas as pd\n",
    "from sklearn.metrics.pairwise import cosine_similarity  # machine learning library\n",
    "from sklearn.preprocessing import StandardScaler\n",
    "\n",
    "df = pd.read_csv(\"Summative Data.csv\")\n",
    "\n",
    "print(df.head())\n",
    "\n",
    "balances = df[[\"balance\"]]  # variable to hold balance column data\n",
    "\n",
    "scaler = StandardScaler()  # creates scaler object\n",
    "balances_scaled = scaler.fit_transform(\n",
    "    balances\n",
    ")  # creates a variable to hold standardised values\n",
    "\n",
    "cosine_similarities = cosine_similarity(\n",
    "    balances_scaled\n",
    ")  # calculates cosine similarities of standaridised values\n",
    "\n",
    "print(cosine_similarities)"
   ]
  }
 ],
 "metadata": {
  "kernelspec": {
   "display_name": "Python 3",
   "language": "python",
   "name": "python3"
  },
  "language_info": {
   "codemirror_mode": {
    "name": "ipython",
    "version": 3
   },
   "file_extension": ".py",
   "mimetype": "text/x-python",
   "name": "python",
   "nbconvert_exporter": "python",
   "pygments_lexer": "ipython3",
   "version": "3.11.9"
  }
 },
 "nbformat": 4,
 "nbformat_minor": 2
}
