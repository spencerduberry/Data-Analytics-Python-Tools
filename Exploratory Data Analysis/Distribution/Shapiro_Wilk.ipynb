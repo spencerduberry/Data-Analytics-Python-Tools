{
  "nbformat": 4,
  "nbformat_minor": 0,
  "metadata": {
    "colab": {
      "provenance": [],
      "authorship_tag": "ABX9TyOZdtTrylGRTq7PP6gx62yR",
      "include_colab_link": true
    },
    "kernelspec": {
      "name": "python3",
      "display_name": "Python 3"
    },
    "language_info": {
      "name": "python"
    }
  },
  "cells": [
    {
      "cell_type": "markdown",
      "metadata": {
        "id": "view-in-github",
        "colab_type": "text"
      },
      "source": [
        "<a href=\"https://colab.research.google.com/github/spencerduberry/Python_csv/blob/main/Normal_distribution_Shapiro_Wilk.ipynb\" target=\"_parent\"><img src=\"https://colab.research.google.com/assets/colab-badge.svg\" alt=\"Open In Colab\"/></a>"
      ]
    },
    {
      "cell_type": "code",
      "execution_count": null,
      "metadata": {
        "id": "3wcsbByM6guA"
      },
      "outputs": [],
      "source": [
        "from scipy import stats\n",
        "\n",
        "shapiro_test = stats.shapiro(column_data) #column_data refers to the variable to hold the column data from the table (see histograms example)\n",
        "print(f\"Shapiro-Wilk Test: Statistic={shapiro_test.statistic}, p-value={shapiro_test.pvalue}\") #statistic is a measure of how well the data conforms to a normal distribution. A value close to 1 suggests that the data is more normally distributed; p-value indicates the probability that the data comes from a normal distribution. Typically, a p-value > 0.05 suggests that the data is consistent with a normal distribution\n"
      ]
    }
  ]
}