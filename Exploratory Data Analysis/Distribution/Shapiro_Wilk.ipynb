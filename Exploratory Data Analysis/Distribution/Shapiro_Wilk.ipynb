{
 "cells": [
  {
   "cell_type": "markdown",
   "metadata": {
    "colab_type": "text",
    "id": "view-in-github"
   },
   "source": [
    "<a href=\"https://colab.research.google.com/github/spencerduberry/Python_csv/blob/main/Normal_distribution_Shapiro_Wilk.ipynb\" target=\"_parent\"><img src=\"https://colab.research.google.com/assets/colab-badge.svg\" alt=\"Open In Colab\"/></a>"
   ]
  },
  {
   "cell_type": "code",
   "execution_count": null,
   "metadata": {
    "id": "3wcsbByM6guA"
   },
   "outputs": [
    {
     "name": "stdout",
     "output_type": "stream",
     "text": [
      "Shapiro-Wilk Test: Statistic=0.9939498329089429, p-value=7.77822656948816e-20\n"
     ]
    },
    {
     "name": "stderr",
     "output_type": "stream",
     "text": [
      "C:\\Users\\spenc\\AppData\\Local\\Packages\\PythonSoftwareFoundation.Python.3.11_qbz5n2kfra8p0\\LocalCache\\local-packages\\Python311\\site-packages\\scipy\\stats\\_axis_nan_policy.py:531: UserWarning: scipy.stats.shapiro: For N > 5000, computed p-value may not be accurate. Current N is 9709.\n",
      "  res = hypotest_fun_out(*samples, **kwds)\n"
     ]
    }
   ],
   "source": [
    "from scipy import stats\n",
    "import pandas as pd\n",
    "\n",
    "df = pd.read_csv(\n",
    "    r\"C:\\Users\\spenc\\github\\Data_Analytics_Tools_Python\\Summative Data.csv\"\n",
    ")\n",
    "\n",
    "\n",
    "def shapiro_wilk(df: pd.DataFrame, col: str):\n",
    "    shapiro_test = stats.shapiro(df[col])\n",
    "    print(\n",
    "        f\"Shapiro-Wilk Test: Statistic={shapiro_test.statistic}, p-value={shapiro_test.pvalue}\"\n",
    "    )  # statistic is a measure of how well the data conforms to a normal distribution. A value close to 1 suggests that the data is more normally distributed; p-value indicates the probability that the data comes from a normal distribution. Typically, a p-value > 0.05 suggests that the data is consistent with a normal distribution\n",
    "\n",
    "\n",
    "def main():\n",
    "    shapiro_wilk(df, \"cr_score\")\n",
    "\n",
    "\n",
    "if __name__ == \"__main__\":\n",
    "    main()"
   ]
  }
 ],
 "metadata": {
  "colab": {
   "authorship_tag": "ABX9TyOZdtTrylGRTq7PP6gx62yR",
   "include_colab_link": true,
   "provenance": []
  },
  "kernelspec": {
   "display_name": "Python 3",
   "name": "python3"
  },
  "language_info": {
   "codemirror_mode": {
    "name": "ipython",
    "version": 3
   },
   "file_extension": ".py",
   "mimetype": "text/x-python",
   "name": "python",
   "nbconvert_exporter": "python",
   "pygments_lexer": "ipython3",
   "version": "3.11.9"
  }
 },
 "nbformat": 4,
 "nbformat_minor": 0
}
