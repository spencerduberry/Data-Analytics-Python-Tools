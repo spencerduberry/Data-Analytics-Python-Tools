{
  "cells": [
    {
      "cell_type": "code",
      "execution_count": 1,
      "metadata": {
        "colab": {
          "base_uri": "https://localhost:8080/"
        },
        "id": "9RfpSYKJFFzz",
        "outputId": "36e72d80-06fe-4500-8017-c7233dc3fed5"
      },
      "outputs": [
        {
          "name": "stdout",
          "output_type": "stream",
          "text": [
            "        ID  Exited  gender  age  term_deposit  Car  Property Geography  \\\n",
            "0  5008804       1  Female   42             0    1         1    Greece   \n",
            "1  5008806       0  Female   41             0    1         1     Spain   \n",
            "2  5008808       1  Female   42             0    0         1    Greece   \n",
            "3  5008812       0  Female   39             0    0         1    Greece   \n",
            "4  5008815       0  Female   43             0    1         1     Spain   \n",
            "\n",
            "   cr_score  tenure  ...  Acc_length  Total_income  credit_card  \\\n",
            "0       619       2  ...          15      427500.0            1   \n",
            "1       608       1  ...          29      112500.0            0   \n",
            "2       502       8  ...           4      270000.0            1   \n",
            "3       699       1  ...          20      283500.0            0   \n",
            "4       850       2  ...           5      270000.0            1   \n",
            "\n",
            "   Years_employed           Income_type                 Education_type  \\\n",
            "0       12.435574               Working               Higher education   \n",
            "1        3.104787               Working  Secondary / secondary special   \n",
            "2        8.353354  Commercial associate  Secondary / secondary special   \n",
            "3        0.000000             Pensioner               Higher education   \n",
            "4        2.105450               Working               Higher education   \n",
            "\n",
            "          Family_status       Housing_type Occupation_type Target  \n",
            "0        Civil marriage   Rented apartment           Other      1  \n",
            "1               Married  House / apartment  Security staff      0  \n",
            "2  Single / not married  House / apartment     Sales staff      0  \n",
            "3             Separated  House / apartment           Other      0  \n",
            "4               Married  House / apartment     Accountants      0  \n",
            "\n",
            "[5 rows x 23 columns]\n",
            "gender  Female  Male\n",
            "Exited              \n",
            "0         3315  4411\n",
            "1         1111   872\n",
            "Chi-Squared Statistic: 108.96105226681073\n",
            "p-value: 1.6550622347096854e-25\n",
            "Degrees of Freedom: 1\n",
            "Expected Frequencies:\n",
            " [[3522.0183335 4203.9816665]\n",
            " [ 903.9816665 1079.0183335]]\n",
            "Reject the null hypothesis: There is a significant association between the variables.\n"
          ]
        }
      ],
      "source": [
        "import pandas as pd\n",
        "from scipy.stats import chi2_contingency # scipy is a maths library\n",
        "\n",
        "df = pd.read_csv('Summative Data.csv')\n",
        "\n",
        "print(df.head())\n",
        "\n",
        "contingency_table = pd.crosstab(df['Exited'], df['gender']) # table with the first variable as the dependent, and second as the independent\n",
        "print(contingency_table)\n",
        "\n",
        "chi2, p, dof, expected = chi2_contingency(contingency_table) # left side creates variables for chi score, p value, degrees of freedom, and expected frequencies. The right side performs\n",
        "# the chi test on the table\n",
        "\n",
        "print(\"Chi-Squared Statistic:\", chi2)\n",
        "print(\"p-value:\", p)\n",
        "print(\"Degrees of Freedom:\", dof)\n",
        "print(\"Expected Frequencies:\\n\", expected)\n",
        "\n",
        "alpha = 0.05 # common significace level\n",
        "if p < alpha:\n",
        "    print(\"Reject the null hypothesis: There is a significant association between the variables.\")\n",
        "else:\n",
        "    print(\"Fail to reject the null hypothesis: There is no significant association between the variables.\")\n"
      ]
    },
    {
      "cell_type": "code",
      "execution_count": null,
      "metadata": {},
      "outputs": [],
      "source": []
    }
  ],
  "metadata": {
    "colab": {
      "provenance": []
    },
    "kernelspec": {
      "display_name": "Python 3",
      "name": "python3"
    },
    "language_info": {
      "codemirror_mode": {
        "name": "ipython",
        "version": 3
      },
      "file_extension": ".py",
      "mimetype": "text/x-python",
      "name": "python",
      "nbconvert_exporter": "python",
      "pygments_lexer": "ipython3",
      "version": "3.11.9"
    }
  },
  "nbformat": 4,
  "nbformat_minor": 0
}
