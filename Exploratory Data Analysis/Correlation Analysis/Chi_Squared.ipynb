{
 "cells": [
  {
   "cell_type": "code",
   "execution_count": 7,
   "metadata": {
    "colab": {
     "base_uri": "https://localhost:8080/"
    },
    "id": "9RfpSYKJFFzz",
    "outputId": "36e72d80-06fe-4500-8017-c7233dc3fed5"
   },
   "outputs": [
    {
     "name": "stdout",
     "output_type": "stream",
     "text": [
      "Chi-Squared Statistic: 108.96105226681073\n",
      "p-value: 1.6550622347096854e-25\n",
      "Degrees of Freedom: 1\n",
      "Expected Frequencies:\n",
      " [[3522.0183335 4203.9816665]\n",
      " [ 903.9816665 1079.0183335]]\n",
      "Reject the null hypothesis: There is a significant association between the variables.\n"
     ]
    }
   ],
   "source": [
    "import pandas as pd\n",
    "from scipy.stats import chi2_contingency\n",
    "\n",
    "\n",
    "def chi_squared(df: pd.DataFrame, col_1: str, col_2: str):\n",
    "    \"\"\"Performs a chi-squared test based on data from two columns in a DataFrame\n",
    "\n",
    "    Args:\n",
    "        df (pd.DataFrame): The input DataFrame containing teh columsn for the chi-squared test\n",
    "        col_1 (str): The name of the volumn containing the dependent variable\n",
    "        col_1 (str): The name of the volumn containing the independent variable\n",
    "\n",
    "    Returns:\n",
    "        chi2 (float): The chi-squared result of comparing the two columns\n",
    "        p (float): the probability of observing a\n",
    "                   test statistic as extreme or more extreme\n",
    "                   than the one calculated, assuming the null\n",
    "                   hypothesis (no association between the variables)\n",
    "                   is true.\n",
    "        dof (int): The degrees of freedom of the chi-squared test.\n",
    "                  Calculated as (number of rows - 1) * (number of columns - 1)\n",
    "                  in the contingency table.\n",
    "        expected (numpy.ndarray): The array of expected frequencies for each cell\n",
    "                  in the contingency table, assuming the null hypothesis is true.\n",
    "    \"\"\"\n",
    "\n",
    "    contingency_table = pd.crosstab(df[col_1], df[col_2])\n",
    "\n",
    "    chi2, p, dof, expected = chi2_contingency(contingency_table)\n",
    "\n",
    "    print(\"Chi-Squared Statistic:\", chi2)\n",
    "    print(\"p-value:\", p)\n",
    "    print(\"Degrees of Freedom:\", dof)\n",
    "    print(\"Expected Frequencies:\\n\", expected)\n",
    "\n",
    "    alpha = 0.05\n",
    "    if p < alpha:\n",
    "        print(\n",
    "            \"Reject the null hypothesis: There is a significant association between the variables.\"\n",
    "        )\n",
    "    else:\n",
    "        print(\n",
    "            \"Fail to reject the null hypothesis: There is no significant association between the variables.\"\n",
    "        )"
   ]
  },
  {
   "cell_type": "code",
   "execution_count": null,
   "metadata": {},
   "outputs": [],
   "source": []
  }
 ],
 "metadata": {
  "colab": {
   "provenance": []
  },
  "kernelspec": {
   "display_name": "Python 3",
   "name": "python3"
  },
  "language_info": {
   "codemirror_mode": {
    "name": "ipython",
    "version": 3
   },
   "file_extension": ".py",
   "mimetype": "text/x-python",
   "name": "python",
   "nbconvert_exporter": "python",
   "pygments_lexer": "ipython3",
   "version": "3.11.9"
  }
 },
 "nbformat": 4,
 "nbformat_minor": 0
}
