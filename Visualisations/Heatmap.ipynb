{
 "cells": [
  {
   "cell_type": "code",
   "execution_count": null,
   "metadata": {},
   "outputs": [],
   "source": [
    "pip install pandas seaborn matplotlib\n",
    "\n",
    "import pandas as pd\n",
    "import seaborn as sns\n",
    "import matplotlib.pyplot as plt\n",
    "\n",
    "\n",
    "data = pd.read_csv('your_file.csv')\n",
    "\n",
    "\n",
    "contingency_table = pd.crosstab(data['Attribute1'], data['Attribute2'])\n",
    "\n",
    "\n",
    "plt.figure(figsize=(10, 8))  \n",
    "sns.heatmap(contingency_table, annot=True, fmt='d', cmap='YlGnBu', cbar=True)\n",
    "\n",
    "\n",
    "plt.title('Heatmap of Attribute1 vs. Attribute2')\n",
    "plt.xlabel('Attribute2')\n",
    "plt.ylabel('Attribute1')\n",
    "\n",
    "\n",
    "plt.show()\n"
   ]
  }
 ],
 "metadata": {
  "language_info": {
   "name": "python"
  }
 },
 "nbformat": 4,
 "nbformat_minor": 2
}
