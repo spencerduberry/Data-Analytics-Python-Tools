{
 "cells": [
  {
   "cell_type": "markdown",
   "metadata": {
    "colab_type": "text",
    "id": "view-in-github"
   },
   "source": [
    "<a href=\"https://colab.research.google.com/github/spencerduberry/Python_csv/blob/main/Case_folding_line_14.ipynb\" target=\"_parent\"><img src=\"https://colab.research.google.com/assets/colab-badge.svg\" alt=\"Open In Colab\"/></a>"
   ]
  },
  {
   "cell_type": "code",
   "execution_count": 9,
   "metadata": {
    "colab": {
     "base_uri": "https://localhost:8080/"
    },
    "id": "MWfDkLiKnK4_",
    "outputId": "2e3968e1-d997-494e-a7eb-36876fd8e7c8"
   },
   "outputs": [
    {
     "name": "stdout",
     "output_type": "stream",
     "text": [
      "Most common terms in spam messages:\n",
      "[('to', 686), ('a', 378), ('call', 350), ('you', 287), ('your', 263), ('free', 219), ('for', 204), ('the', 204), ('now', 190), ('or', 188)]\n",
      "\n",
      "Most common terms in ham messages:\n",
      "[('i', 2185), ('you', 1837), ('to', 1554), ('the', 1119), ('a', 1055), ('u', 988), ('and', 848), ('in', 813), ('me', 756), ('my', 743)]\n"
     ]
    }
   ],
   "source": [
    "# prompt: import pandas as pd\n",
    "\n",
    "import pandas as pd\n",
    "from collections import Counter\n",
    "import re\n",
    "\n",
    "df = pd.read_csv(\"spam.csv\", encoding=\"latin-1\")\n",
    "df[\"v1\"] = df[\"v1\"].apply(lambda x: 1 if x == \"spam\" else 0)\n",
    "\n",
    "spam_docs = df[df[\"v1\"] == 1][\n",
    "    \"v2\"\n",
    "]  # creates a new document of only spam, via filtering\n",
    "ham_docs = df[df[\"v1\"] == 0][\"v2\"]  # creates a new document of only ham, via filtering\n",
    "\n",
    "\n",
    "def tokenize(text):  # def is a function, which is like a method, but classless\n",
    "    text = text.lower()  # conversion to lower class so that upper and lower class versions of the same word are not counted separately\n",
    "    text = re.sub(r\"[^a-z\\s]\", \"\", text)  # removes non-alphabetical characters\n",
    "    return text.split()  # splits text into words\n",
    "\n",
    "\n",
    "spam_text = \" \".join(\n",
    "    spam_docs\n",
    ")  # combines all spam and ham messages into individual documents\n",
    "spam_tokens = tokenize(spam_text)  # and tokenises them\n",
    "ham_text = \" \".join(ham_docs)\n",
    "ham_tokens = tokenize(ham_text)\n",
    "\n",
    "spam_term_index = Counter(spam_tokens)  # create an index of terms for spam and ham\n",
    "ham_term_index = Counter(ham_tokens)\n",
    "\n",
    "print(\"Most common terms in spam messages:\")\n",
    "print(spam_term_index.most_common(10))\n",
    "\n",
    "print(\"\\nMost common terms in ham messages:\")\n",
    "print(ham_term_index.most_common(10))"
   ]
  }
 ],
 "metadata": {
  "colab": {
   "authorship_tag": "ABX9TyO497Wjc3DU+qP7oKdZTG69",
   "include_colab_link": true,
   "provenance": []
  },
  "kernelspec": {
   "display_name": "Python 3",
   "name": "python3"
  },
  "language_info": {
   "name": "python"
  }
 },
 "nbformat": 4,
 "nbformat_minor": 0
}