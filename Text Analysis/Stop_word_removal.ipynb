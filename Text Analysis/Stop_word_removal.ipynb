{
  "nbformat": 4,
  "nbformat_minor": 0,
  "metadata": {
    "colab": {
      "provenance": [],
      "authorship_tag": "ABX9TyN89fajnJCfYpLMCkfbx+OL",
      "include_colab_link": true
    },
    "kernelspec": {
      "name": "python3",
      "display_name": "Python 3"
    },
    "language_info": {
      "name": "python"
    }
  },
  "cells": [
    {
      "cell_type": "markdown",
      "metadata": {
        "id": "view-in-github",
        "colab_type": "text"
      },
      "source": [
        "<a href=\"https://colab.research.google.com/github/spencerduberry/Python_csv/blob/main/Stop_word_removal.ipynb\" target=\"_parent\"><img src=\"https://colab.research.google.com/assets/colab-badge.svg\" alt=\"Open In Colab\"/></a>"
      ]
    },
    {
      "cell_type": "code",
      "execution_count": 16,
      "metadata": {
        "colab": {
          "base_uri": "https://localhost:8080/"
        },
        "id": "MWfDkLiKnK4_",
        "outputId": "7e8a3d29-0629-4faa-d567-b1f1964410f9"
      },
      "outputs": [
        {
          "output_type": "stream",
          "name": "stderr",
          "text": [
            "[nltk_data] Downloading package stopwords to /root/nltk_data...\n",
            "[nltk_data]   Package stopwords is already up-to-date!\n",
            "[nltk_data] Downloading package punkt to /root/nltk_data...\n",
            "[nltk_data]   Package punkt is already up-to-date!\n"
          ]
        },
        {
          "output_type": "stream",
          "name": "stdout",
          "text": [
            "   v1                                                 v2  \\\n",
            "0   0  Go until jurong point, crazy.. Available only ...   \n",
            "1   0                      Ok lar... Joking wif u oni...   \n",
            "2   1  Free entry in 2 a wkly comp to win FA Cup fina...   \n",
            "3   0  U dun say so early hor... U c already then say...   \n",
            "4   0  Nah I don't think he goes to usf, he lives aro...   \n",
            "\n",
            "                                        cleaned_text  \n",
            "0  Go jurong point , crazy .. Available bugis n g...  \n",
            "1                    Ok lar ... Joking wif u oni ...  \n",
            "2  Free entry 2 wkly comp win FA Cup final tkts 2...  \n",
            "3        U dun say early hor ... U c already say ...  \n",
            "4       Nah n't think goes usf , lives around though  \n",
            "Most common terms in spam messages:\n",
            "[('call', 350), ('free', 221), ('u', 167), ('txt', 157), ('ur', 144), ('mobile', 124), ('text', 122), ('stop', 119), ('claim', 113), ('reply', 104)]\n",
            "\n",
            "Most common terms in ham messages:\n",
            "[('u', 1020), ('s', 426), ('m', 388), ('nt', 360), ('gt', 318), ('lt', 316), ('get', 307), ('ok', 279), ('go', 250), ('got', 245)]\n"
          ]
        }
      ],
      "source": [
        "# prompt: import pandas as pd\n",
        "\n",
        "import pandas as pd\n",
        "from collections import Counter #collections provides specialised data structures; counter tracks how mamny times items appear in a sequence\n",
        "import re #allows handling of text data based on patterns rather than exact characters\n",
        "import nltk #natural language toolkit\n",
        "from nltk.corpus import stopwords\n",
        "from nltk.tokenize import word_tokenize\n",
        "\n",
        "nltk.download('stopwords')\n",
        "nltk.download('punkt') #punkt is a model for sentence tokenisation and is good at identifying sentence boundaries\n",
        "stop_words = set(stopwords.words('english')) #set of stopwords is created\n",
        "\n",
        "df = pd.read_csv('spam.csv', encoding = 'latin-1')\n",
        "\n",
        "df['v1'] = df['v1'].apply(lambda x: 1 if x == 'spam' else 0) #binarising ham and spam\n",
        "\n",
        "def tokenize(text): #def is a function, which is like a method, but classless\n",
        "  text = text.lower() #conversion to lower class so that upper and lower class versions of the same word are not counted separately\n",
        "  text = re.sub(r'[^a-z\\s]', '', text) #removes non-alphabetical characters\n",
        "  return text.split() #splits text into words\n",
        "\n",
        "def remove_stopwords(text):\n",
        "  words = word_tokenize(text) #the complete set of words\n",
        "  filtered_words = [word for word in words if word.lower() not in stop_words] #the filtered set of words: in the new list, include words from the words set as long as they are not in the stop_words set\n",
        "  return ' '.join(filtered_words) #puts the words back together into a string. The ' ' is just the delimiter\n",
        "\n",
        "df['cleaned_text'] = df['v2'].apply(remove_stopwords) #creates a new cleaned_text attribute, removing stopwords\n",
        "\n",
        "print(df[['v1', 'v2', 'cleaned_text']].head())\n",
        "\n",
        "spam_docs = df[df['v1'] == 1]['cleaned_text'] #creates a new document of only spam, via filtering\n",
        "ham_docs = df[df['v1'] == 0]['cleaned_text'] #creates a new document of only ham, via filtering\n",
        "\n",
        "spam_text = ' '.join(spam_docs) #combines all spam and ham messages into individual documents\n",
        "spam_tokens = tokenize(spam_text) #and tokenises them\n",
        "ham_text = ' '.join(ham_docs)\n",
        "ham_tokens = tokenize(ham_text)\n",
        "\n",
        "spam_term_index = Counter(spam_tokens) #create an index of terms\n",
        "ham_term_index = Counter(ham_tokens)\n",
        "\n",
        "print(\"Most common terms in spam messages:\")\n",
        "print(spam_term_index.most_common(10))\n",
        "\n",
        "print(\"\\nMost common terms in ham messages:\")\n",
        "print(ham_term_index.most_common(10))"
      ]
    }
  ]
}