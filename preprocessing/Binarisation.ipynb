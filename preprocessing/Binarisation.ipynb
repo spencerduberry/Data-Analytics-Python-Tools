{
 "cells": [
  {
   "cell_type": "markdown",
   "metadata": {
    "colab_type": "text",
    "id": "view-in-github"
   },
   "source": [
    "<a href=\"https://colab.research.google.com/github/spencerduberry/Python_csv/blob/main/Binarisation.ipynb\" target=\"_parent\"><img src=\"https://colab.research.google.com/assets/colab-badge.svg\" alt=\"Open In Colab\"/></a>"
   ]
  },
  {
   "cell_type": "code",
   "execution_count": null,
   "metadata": {
    "colab": {
     "base_uri": "https://localhost:8080/"
    },
    "id": "jfhw9L7oe2H9",
    "outputId": "42b0a26f-4c70-4a34-e72a-f5ac91f6ef75"
   },
   "outputs": [
    {
     "name": "stdout",
     "output_type": "stream",
     "text": [
      "    gender race/ethnicity parental level of education         lunch  \\\n",
      "0   female        group B           bachelor's degree      standard   \n",
      "1   female        group C                some college      standard   \n",
      "2   female        group B             master's degree      standard   \n",
      "3     male        group A          associate's degree  free/reduced   \n",
      "4     male        group C                some college      standard   \n",
      "5   female        group B          associate's degree      standard   \n",
      "6   female        group B                some college      standard   \n",
      "7     male        group B                some college  free/reduced   \n",
      "8     male        group D                 high school  free/reduced   \n",
      "9   female        group B                 high school  free/reduced   \n",
      "10    male        group C          associate's degree      standard   \n",
      "11    male        group D          associate's degree      standard   \n",
      "12  female        group B                 high school      standard   \n",
      "13    male        group A                some college      standard   \n",
      "14  female        group A             master's degree      standard   \n",
      "15  female        group C            some high school      standard   \n",
      "16    male        group C                 high school      standard   \n",
      "17  female        group B            some high school  free/reduced   \n",
      "18    male        group C             master's degree  free/reduced   \n",
      "19  female        group C          associate's degree  free/reduced   \n",
      "\n",
      "   test preparation course  math score  reading score  writing score  \\\n",
      "0                     none          72             72             74   \n",
      "1                completed          69             90             88   \n",
      "2                     none          90             95             93   \n",
      "3                     none          47             57             44   \n",
      "4                     none          76             78             75   \n",
      "5                     none          71             83             78   \n",
      "6                completed          88             95             92   \n",
      "7                     none          40             43             39   \n",
      "8                completed          64             64             67   \n",
      "9                     none          38             60             50   \n",
      "10                    none          58             54             52   \n",
      "11                    none          40             52             43   \n",
      "12                    none          65             81             73   \n",
      "13               completed          78             72             70   \n",
      "14                    none          50             53             58   \n",
      "15                    none          69             75             78   \n",
      "16                    none          88             89             86   \n",
      "17                    none          18             32             28   \n",
      "18               completed          46             42             46   \n",
      "19                    none          54             58             61   \n",
      "\n",
      "    gender_binarized  \n",
      "0                  0  \n",
      "1                  0  \n",
      "2                  0  \n",
      "3                  1  \n",
      "4                  1  \n",
      "5                  0  \n",
      "6                  0  \n",
      "7                  1  \n",
      "8                  1  \n",
      "9                  0  \n",
      "10                 1  \n",
      "11                 1  \n",
      "12                 0  \n",
      "13                 1  \n",
      "14                 0  \n",
      "15                 0  \n",
      "16                 1  \n",
      "17                 0  \n",
      "18                 1  \n",
      "19                 0  \n"
     ]
    }
   ],
   "source": [
    "import pandas as pd\n",
    "\n",
    "df = pd.read_csv(\"StudentsPerformance.csv\")\n",
    "\n",
    "df[\"gender_binarized\"] = df[\"gender\"].apply(lambda x: 1 if x == \"male\" else 0)\n",
    "\n",
    "print(df.head(20))"
   ]
  }
 ],
 "metadata": {
  "colab": {
   "authorship_tag": "ABX9TyO6hdpkXLCs4fK5L33Hwdqk",
   "include_colab_link": true,
   "provenance": []
  },
  "kernelspec": {
   "display_name": "Python 3",
   "name": "python3"
  },
  "language_info": {
   "name": "python"
  }
 },
 "nbformat": 4,
 "nbformat_minor": 0
}